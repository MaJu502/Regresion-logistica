{
 "cells": [
  {
   "attachments": {},
   "cell_type": "markdown",
   "metadata": {},
   "source": [
    "## Regresion Logistica \n",
    "### Marco Antonio Jurado 20308\n"
   ]
  },
  {
   "cell_type": "code",
   "execution_count": 1896,
   "metadata": {},
   "outputs": [],
   "source": [
    "import numpy as np"
   ]
  },
  {
   "cell_type": "code",
   "execution_count": 1897,
   "metadata": {},
   "outputs": [
    {
     "name": "stdout",
     "output_type": "stream",
     "text": [
      "0 male\n",
      "1 age\n",
      "2 education\n",
      "3 currentSmoker\n",
      "4 cigsPerDay\n",
      "5 BPMeds\n",
      "6 prevalentStroke\n",
      "7 prevalentHyp\n",
      "8 diabetes\n",
      "9 totChol\n",
      "10 sysBP\n",
      "11 diaBP\n",
      "12 BMI\n",
      "13 heartRate\n",
      "14 glucose\n",
      "15 TenYearCHD\n"
     ]
    }
   ],
   "source": [
    "import csv\n",
    "with open('framingham.csv', 'r') as file:\n",
    "    csv_reader = csv.reader(file)\n",
    "    datacsv = []\n",
    "    for row in csv_reader:\n",
    "        datacsv.append(row)\n",
    "\n",
    "header = datacsv[0]\n",
    "i = 0\n",
    "for name in header:\n",
    "    print(i, name)\n",
    "    i +=1"
   ]
  },
  {
   "cell_type": "code",
   "execution_count": 1898,
   "metadata": {},
   "outputs": [
    {
     "name": "stdout",
     "output_type": "stream",
     "text": [
      "head \n",
      " [[  1.    39.     4.     0.     0.     0.     0.     0.     0.   195.\n",
      "  106.    70.    26.97  80.    77.     0.  ]\n",
      " [  0.    46.     2.     0.     0.     0.     0.     0.     0.   250.\n",
      "  121.    81.    28.73  95.    76.     0.  ]\n",
      " [  1.    48.     1.     1.    20.     0.     0.     0.     0.   245.\n",
      "  127.5   80.    25.34  75.    70.     0.  ]\n",
      " [  0.    61.     3.     1.    30.     0.     0.     1.     0.   225.\n",
      "  150.    95.    28.58  65.   103.     1.  ]\n",
      " [  0.    46.     3.     1.    23.     0.     0.     0.     0.   285.\n",
      "  130.    84.    23.1   85.    85.     0.  ]]\n",
      "\n",
      "\n",
      "tail \n",
      " [[  1.    50.     1.     1.     1.     0.     0.     1.     0.   313.\n",
      "  179.    92.    25.97  66.    86.     1.  ]\n",
      " [  1.    51.     3.     1.    43.     0.     0.     0.     0.   207.\n",
      "  126.5   80.    19.71  65.    68.     0.  ]\n",
      " [  0.    48.     2.     1.    20.      nan   0.     0.     0.   248.\n",
      "  131.    72.    22.    84.    86.     0.  ]\n",
      " [  0.    44.     1.     1.    15.     0.     0.     0.     0.   210.\n",
      "  126.5   87.    19.16  86.      nan   0.  ]\n",
      " [  0.    52.     2.     0.     0.     0.     0.     0.     0.   269.\n",
      "  133.5   83.    21.47  80.   107.     0.  ]]\n"
     ]
    }
   ],
   "source": [
    "rawDATA = np.genfromtxt('framingham.csv', delimiter=',', skip_header=True)\n",
    "data = np.array(rawDATA)\n",
    "print(\"head \\n\", data[:5])\n",
    "print(\"\\n\\ntail \\n\", data[-5:])"
   ]
  },
  {
   "attachments": {},
   "cell_type": "markdown",
   "metadata": {},
   "source": [
    "Ahora se separa la X y la Y"
   ]
  },
  {
   "cell_type": "code",
   "execution_count": 1899,
   "metadata": {},
   "outputs": [
    {
     "name": "stdout",
     "output_type": "stream",
     "text": [
      "(4238, 1)\n",
      "(4238, 1)\n"
     ]
    }
   ],
   "source": [
    "X = data[:, 12].reshape(-1, 1)\n",
    "Y = data[:, -1].reshape(-1, 1)\n",
    "print(X.shape)\n",
    "print(Y.shape)"
   ]
  },
  {
   "cell_type": "code",
   "execution_count": 1900,
   "metadata": {},
   "outputs": [
    {
     "name": "stdout",
     "output_type": "stream",
     "text": [
      "Faltan datos en X.\n",
      "Todo bien en Y.\n"
     ]
    }
   ],
   "source": [
    "if np.any(np.isnan(X)):\n",
    "    print(\"Faltan datos en X.\")\n",
    "else:\n",
    "    print(\"Todo bien en X.\")\n",
    "\n",
    "# Check if there are any NaN values in Y\n",
    "if np.any(np.isnan(Y)):\n",
    "    print(\"Faltan datos en Y.\")\n",
    "else:\n",
    "    print(\"Todo bien en Y.\")"
   ]
  },
  {
   "attachments": {},
   "cell_type": "markdown",
   "metadata": {},
   "source": [
    "debido a que faltan datos en X se procede a saber que porcentaje de estos es NaN"
   ]
  },
  {
   "cell_type": "code",
   "execution_count": 1901,
   "metadata": {},
   "outputs": [
    {
     "name": "stdout",
     "output_type": "stream",
     "text": [
      "falta un porcentaje del:\n",
      "0.4483246814535158\n"
     ]
    }
   ],
   "source": [
    "print('falta un porcentaje del:')\n",
    "print((np.count_nonzero(np.isnan(X)) * 100) /(X.shape[0]))"
   ]
  },
  {
   "attachments": {},
   "cell_type": "markdown",
   "metadata": {},
   "source": [
    "Se usara SimpleImputer para llenar los datos faltantes con el metodo de mean"
   ]
  },
  {
   "cell_type": "code",
   "execution_count": 1902,
   "metadata": {},
   "outputs": [
    {
     "name": "stdout",
     "output_type": "stream",
     "text": [
      "Todo bien en X.\n"
     ]
    }
   ],
   "source": [
    "from sklearn.impute import SimpleImputer\n",
    "imp = SimpleImputer(strategy=\"mean\")\n",
    "X = imp.fit_transform(X)\n",
    "if np.any(np.isnan(X)):\n",
    "    print(\"Faltan datos en X.\")\n",
    "else:\n",
    "    print(\"Todo bien en X.\")"
   ]
  },
  {
   "attachments": {},
   "cell_type": "markdown",
   "metadata": {},
   "source": [
    "Ahora ya no tenemos datos faltantes en ambas variables"
   ]
  },
  {
   "cell_type": "code",
   "execution_count": 1903,
   "metadata": {},
   "outputs": [
    {
     "name": "stdout",
     "output_type": "stream",
     "text": [
      "(4238, 1)\n",
      "(4238, 1)\n"
     ]
    }
   ],
   "source": [
    "print(X.shape)\n",
    "print(Y.shape)"
   ]
  },
  {
   "attachments": {},
   "cell_type": "markdown",
   "metadata": {},
   "source": [
    "Procedemos a separar en test y entreno"
   ]
  },
  {
   "cell_type": "code",
   "execution_count": 1904,
   "metadata": {},
   "outputs": [],
   "source": [
    "import random\n",
    "combinadoZIP = list(zip(X, Y))\n",
    "random.shuffle(combinadoZIP)\n",
    "\n",
    "shuffleX, shuffleY = zip(*combinadoZIP)\n",
    "shuffleX, shuffleY = np.array(shuffleX), np.array(shuffleY)"
   ]
  },
  {
   "cell_type": "code",
   "execution_count": 1905,
   "metadata": {},
   "outputs": [],
   "source": [
    "np.random.seed(54)\n",
    "shuffle_indices = np.random.permutation(X.shape[0])\n",
    "X_shuffled = X[shuffle_indices]\n",
    "Y_shuffled = Y[shuffle_indices]\n",
    "\n",
    "entreno_temp = int(X.shape[0] * 0.7)\n",
    "\n",
    "X_train, X_test = X_shuffled[:entreno_temp], X_shuffled[entreno_temp:]\n",
    "Y_train, Y_test = Y_shuffled[:entreno_temp], Y_shuffled[entreno_temp:]"
   ]
  },
  {
   "attachments": {},
   "cell_type": "markdown",
   "metadata": {},
   "source": [
    "ahora las funciones que nos sirven para calcular la data donde la funcion de costo es cambiada de la de regresion lineal por la de regresion logistica. Cabe mencionar que es similar pero el detalle del sigmoide es lo que la diferencia."
   ]
  },
  {
   "cell_type": "code",
   "execution_count": 1906,
   "metadata": {},
   "outputs": [],
   "source": [
    "sigmoid = lambda X, t: 1 / (1 + np.exp(-(X @ t)))\n",
    "cost = lambda X, y, t: ((sigmoid(X, t) - y) ** 2).sum() / len(y)\n",
    "grad = lambda X, y, t: 2 * X.T @ (X @ t - y) / len(y)"
   ]
  },
  {
   "cell_type": "code",
   "execution_count": 1907,
   "metadata": {},
   "outputs": [],
   "source": [
    "def regLineal(X, y, t, cost, grad, a=0.1, n=1000, on_step=None): \n",
    "    costs = []\n",
    "    for i in range(n):\n",
    "        t -= a * grad(X, y, t)\n",
    "        costs.append(cost(X, y, t))\n",
    "        if on_step:\n",
    "            on_step(t)    \n",
    "    return t, costs"
   ]
  },
  {
   "cell_type": "code",
   "execution_count": 1908,
   "metadata": {},
   "outputs": [],
   "source": [
    "def costoGradiente(theta, X, y, lmbd):\n",
    "    h = sigmoid(X, theta)\n",
    "    return ((X.T @ (h - y)) / len(y))"
   ]
  },
  {
   "cell_type": "code",
   "execution_count": 1909,
   "metadata": {},
   "outputs": [],
   "source": [
    "def linear_cost(theta, X, y, lmbd):\n",
    "    h = X @ theta\n",
    "    reg = (lmbd / (2 * len(X))) * (theta[1:] ** 2).sum()\n",
    "    return ((h - y) ** 2).sum() / (2 * len(X)) + reg"
   ]
  },
  {
   "cell_type": "code",
   "execution_count": 1910,
   "metadata": {},
   "outputs": [],
   "source": [
    "def gradient_descent(theta, X, y, funcionCostos, costoGradiente, learning_rate=0.01, threshold=0.001, max_iter=10000):\n",
    "    tempTheta = theta\n",
    "    i = 0\n",
    "    costs = []\n",
    "    while np.linalg.norm(costoGradiente(tempTheta, X, y, 0.1)) > threshold and i < max_iter:\n",
    "        tempTheta -= learning_rate * costoGradiente(tempTheta, X, y, 0.1)\n",
    "        i += 1\n",
    "        costs.append(funcionCostos(tempTheta, X, y, 0.1))\n",
    "    return tempTheta, costs"
   ]
  },
  {
   "cell_type": "code",
   "execution_count": 1911,
   "metadata": {},
   "outputs": [],
   "source": [
    "Xr = np.column_stack((np.ones_like(X), X))\n",
    "theta_0 = np.random.rand(Xr.shape[1],1)\n",
    "theta_0 = theta_0[~np.isnan(theta_0)].reshape((-1, 1))\n",
    "\n",
    "thetass, costos = regLineal(Xr, Y, theta_0, cost, grad, a=0.0000000000000000001, n=10)\n",
    "\n",
    "xm = np.array([[0], [len(X)]])\n",
    "xmr = np.concatenate((np.ones((2, 1)), xm), axis=1)\n",
    "\n",
    "ym = xmr @ thetass"
   ]
  },
  {
   "cell_type": "code",
   "execution_count": 1912,
   "metadata": {},
   "outputs": [
    {
     "data": {
      "image/png": "[encoded data removed]",
      "text/plain": [
       "<Figure size 640x480 with 1 Axes>"
      ]
     },
     "metadata": {},
     "output_type": "display_data"
    }
   ],
   "source": [
    "import matplotlib.pyplot as plt\n",
    "plt.plot(X, Y, 'ro') #puntos\n",
    "plt.plot(xm,ym) #regresion\n",
    "plt.show()"
   ]
  },
  {
   "cell_type": "code",
   "execution_count": 1913,
   "metadata": {},
   "outputs": [
    {
     "data": {
      "image/png": "[encoded data removed]",
      "text/plain": [
       "<Figure size 640x480 with 1 Axes>"
      ]
     },
     "metadata": {},
     "output_type": "display_data"
    }
   ],
   "source": [
    "plt.plot(costos) #costo\n",
    "plt.show()"
   ]
  },
  {
   "attachments": {},
   "cell_type": "markdown",
   "metadata": {},
   "source": [
    "Procedemos a buscar el polinomio"
   ]
  },
  {
   "cell_type": "code",
   "execution_count": 1914,
   "metadata": {},
   "outputs": [
    {
     "name": "stdout",
     "output_type": "stream",
     "text": [
      "(2966, 1)\n",
      "(1272, 1)\n",
      "(2966, 1)\n",
      "(1272, 1)\n"
     ]
    }
   ],
   "source": [
    "print(Y_train.shape)\n",
    "print(Y_test.shape)\n",
    "print(X_train.shape)\n",
    "print(X_test.shape)"
   ]
  },
  {
   "attachments": {},
   "cell_type": "markdown",
   "metadata": {},
   "source": [
    "Investigue como funciona Cross Validation de Scikit Learn pues en ocasiones pasadas no llegue a obtener resultados faciles de comprender. Por lo tanto he llegado a comprender el funcionamiento del mismo y obtengo lo siguiente.<br>\n",
    "fuente utilizada: https://scikit-learn.org/stable/modules/cross_validation.html\n"
   ]
  },
  {
   "cell_type": "code",
   "execution_count": 1915,
   "metadata": {},
   "outputs": [],
   "source": [
    "from sklearn.metrics import r2_score, mean_squared_error"
   ]
  },
  {
   "cell_type": "code",
   "execution_count": 1916,
   "metadata": {},
   "outputs": [],
   "source": [
    "def validacion(X, y, k, reg, cost, grad, a=0.1, n=1000, degree=1):\n",
    "    scores,mse_s = [],[]\n",
    "    temp_size = len(X) // k\n",
    "    for i in range(k):\n",
    "        X_test = X[i * temp_size:(i + 1) * temp_size]\n",
    "        X_test_poly = np.power(X_test, degree)\n",
    "        X_test_poly = np.column_stack((np.ones_like(X_test), X_test_poly))\n",
    "        X_test_temp = np.power(X_test, degree)\n",
    "\n",
    "        y_test = y[i * temp_size:(i + 1) * temp_size]\n",
    "\n",
    "        X_train = np.concatenate([X[:i * temp_size], X[(i + 1) * temp_size:]])\n",
    "        X_train_poly = np.power(X_train, degree)\n",
    "        X_train_poly = np.column_stack((np.ones_like(X_train), X_train_poly))\n",
    "\n",
    "        X_train_temp = np.power(X_train, degree) # se evaluan los polinomios\n",
    "        \n",
    "        y_train = np.concatenate([y[:i * temp_size], y[(i + 1) * temp_size:]])\n",
    "\n",
    "        Xr = np.column_stack((np.ones_like(X_train), X_train_temp))\n",
    "        theta_0 = np.random.rand(Xr.shape[1],1)\n",
    "        theta_0 = theta_0[~np.isnan(theta_0)].reshape((-1, 1))\n",
    "\n",
    "        t, g= reg(theta_0, Xr, y_train, cost, grad, learning_rate=a, threshold=0.001 , max_iter=n)\n",
    "\n",
    "        # usar t para calcular predicciones\n",
    "        # usar esa misma t para calcular costo con test y obtener predicciones con ese mismo t en test\n",
    "        # determinar que tan accurate es con test y con train\n",
    "        # determinar diferencia de costos en test y en train\n",
    "        X_train_temp = np.hstack((np.ones((X_train_temp.shape[0], 1)), X_train_temp))\n",
    "        pred_train = sigmoid(X_train_temp,t)\n",
    "        pred_train = np.where(pred_train < 0.5, 0, pred_train)\n",
    "        #pred_train = np.where(pred_train >= 0.5, 1, pred_train)\n",
    "\n",
    "\n",
    "\n",
    "        Xr2 = np.column_stack((np.ones_like(X_test), X_test_temp))\n",
    "        t2,g2 = reg(t, Xr2, y_test, cost, grad, learning_rate=a, threshold=0.001 , max_iter=n)\n",
    "\n",
    "\n",
    "        X_test_temp = np.hstack((np.ones((X_test_temp.shape[0], 1)), X_test_temp))\n",
    "        pred_test = sigmoid(X_test_temp,t)\n",
    "        pred_test = np.where(pred_test < 0.5, 0, pred_test)\n",
    "\n",
    "        ms1 = mean_squared_error(y_train, pred_train)\n",
    "        ms2 = mean_squared_error(y_test, pred_test)\n",
    "        \n",
    "        mse_s.append([ms1,ms2])\n",
    "        scores.append([g,g2])\n",
    "        \n",
    "    return np.array(scores), np.array(mse_s)"
   ]
  },
  {
   "attachments": {},
   "cell_type": "markdown",
   "metadata": {},
   "source": [
    "Se van a probar con 5 niveles de dificultad."
   ]
  },
  {
   "cell_type": "code",
   "execution_count": 1917,
   "metadata": {},
   "outputs": [
    {
     "name": "stdout",
     "output_type": "stream",
     "text": [
      "El MSE en el polinomio 1 con el training set fue de 0.8479430991038412 y con el test set fue de 0.8483985014227624\n",
      "El MSE en el polinomio 2 con el training set fue de 0.8479503848507319 y con el test set fue de 0.848406015358411\n",
      "El MSE en el polinomio 3 con el training set fue de 0.8479504570923032 y con el test set fue de 0.8484061393152302\n",
      "El MSE en el polinomio 4 con el training set fue de 0.8479504570923032 y con el test set fue de 0.8484061393152302\n",
      "El MSE en el polinomio 5 con el training set fue de 0.8479504570923032 y con el test set fue de 0.8484061393152302\n"
     ]
    }
   ],
   "source": [
    "res = []\n",
    "tempAlfa = 0.00000001\n",
    "for i in range(1,6):\n",
    "    tempAlfa = tempAlfa / 1000000000000000\n",
    "    score, errores = validacion(X_shuffled, Y_shuffled, k=5, reg=gradient_descent, cost=linear_cost, grad=costoGradiente, a=tempAlfa, n=1000, degree=i)\n",
    "    errores = np.mean(errores, axis=0)\n",
    "    res.append(score)\n",
    "    print(f\"El MSE en el polinomio {i} con el training set fue de {errores[0]} y con el test set fue de {errores[1]}\")"
   ]
  },
  {
   "cell_type": "code",
   "execution_count": 1918,
   "metadata": {},
   "outputs": [
    {
     "data": {
      "image/png": "[encoded data removed]",
      "text/plain": [
       "<Figure size 1500x500 with 5 Axes>"
      ]
     },
     "metadata": {},
     "output_type": "display_data"
    }
   ],
   "source": [
    "fig, axs = plt.subplots(ncols=5, figsize=(15, 5))\n",
    "for i, ax in enumerate(axs):\n",
    "    ax.plot(res[i][0], color='r')  # train\n",
    "    ax.plot(res[i][1], color='b')  # test\n",
    "    ax.set_title(f'Gráfico {i+1}')\n",
    "plt.tight_layout()    \n",
    "plt.show()"
   ]
  },
  {
   "attachments": {},
   "cell_type": "markdown",
   "metadata": {},
   "source": [
    "## conclusion\n",
    "En este caso podemos ver que el MSE en el set de entrenamiento y de test en el polinomio de grado 5 fue de 0.8479504570923032 y con el test set fue de 0.8484061393152302. Así mismo cuando evaluamos el costo de dicho polinomio podemos ver que es el que menos se aleja el costo de su set de test y de entreno. Por lo tanto tenemos mejores resultados y un modelo que se apega bien a los datos del set al utilizar un polinomio de grado 5"
   ]
  }
 ],
 "metadata": {
  "kernelspec": {
   "display_name": "Python 3",
   "language": "python",
   "name": "python3"
  },
  "language_info": {
   "codemirror_mode": {
    "name": "ipython",
    "version": 3
   },
   "file_extension": ".py",
   "mimetype": "text/x-python",
   "name": "python",
   "nbconvert_exporter": "python",
   "pygments_lexer": "ipython3",
   "version": "3.10.5"
  },
  "orig_nbformat": 4
 },
 "nbformat": 4,
 "nbformat_minor": 2
}
