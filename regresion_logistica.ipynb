{
 "cells": [
  {
   "attachments": {},
   "cell_type": "markdown",
   "metadata": {},
   "source": [
    "## Regresion Logistica \n",
    "### Marco Antonio Jurado 20308\n"
   ]
  },
  {
   "cell_type": "code",
   "execution_count": 606,
   "metadata": {},
   "outputs": [],
   "source": [
    "import numpy as np"
   ]
  },
  {
   "cell_type": "code",
   "execution_count": 607,
   "metadata": {},
   "outputs": [
    {
     "name": "stdout",
     "output_type": "stream",
     "text": [
      "0 male\n",
      "1 age\n",
      "2 education\n",
      "3 currentSmoker\n",
      "4 cigsPerDay\n",
      "5 BPMeds\n",
      "6 prevalentStroke\n",
      "7 prevalentHyp\n",
      "8 diabetes\n",
      "9 totChol\n",
      "10 sysBP\n",
      "11 diaBP\n",
      "12 BMI\n",
      "13 heartRate\n",
      "14 glucose\n",
      "15 TenYearCHD\n"
     ]
    }
   ],
   "source": [
    "import csv\n",
    "with open('framingham.csv', 'r') as file:\n",
    "    csv_reader = csv.reader(file)\n",
    "    datacsv = []\n",
    "    for row in csv_reader:\n",
    "        datacsv.append(row)\n",
    "\n",
    "header = datacsv[0]\n",
    "i = 0\n",
    "for name in header:\n",
    "    print(i, name)\n",
    "    i +=1"
   ]
  },
  {
   "cell_type": "code",
   "execution_count": 608,
   "metadata": {},
   "outputs": [
    {
     "name": "stdout",
     "output_type": "stream",
     "text": [
      "head \n",
      " [[  1.    39.     4.     0.     0.     0.     0.     0.     0.   195.\n",
      "  106.    70.    26.97  80.    77.     0.  ]\n",
      " [  0.    46.     2.     0.     0.     0.     0.     0.     0.   250.\n",
      "  121.    81.    28.73  95.    76.     0.  ]\n",
      " [  1.    48.     1.     1.    20.     0.     0.     0.     0.   245.\n",
      "  127.5   80.    25.34  75.    70.     0.  ]\n",
      " [  0.    61.     3.     1.    30.     0.     0.     1.     0.   225.\n",
      "  150.    95.    28.58  65.   103.     1.  ]\n",
      " [  0.    46.     3.     1.    23.     0.     0.     0.     0.   285.\n",
      "  130.    84.    23.1   85.    85.     0.  ]]\n",
      "\n",
      "\n",
      "tail \n",
      " [[  1.    50.     1.     1.     1.     0.     0.     1.     0.   313.\n",
      "  179.    92.    25.97  66.    86.     1.  ]\n",
      " [  1.    51.     3.     1.    43.     0.     0.     0.     0.   207.\n",
      "  126.5   80.    19.71  65.    68.     0.  ]\n",
      " [  0.    48.     2.     1.    20.      nan   0.     0.     0.   248.\n",
      "  131.    72.    22.    84.    86.     0.  ]\n",
      " [  0.    44.     1.     1.    15.     0.     0.     0.     0.   210.\n",
      "  126.5   87.    19.16  86.      nan   0.  ]\n",
      " [  0.    52.     2.     0.     0.     0.     0.     0.     0.   269.\n",
      "  133.5   83.    21.47  80.   107.     0.  ]]\n"
     ]
    }
   ],
   "source": [
    "rawDATA = np.genfromtxt('framingham.csv', delimiter=',', skip_header=True)\n",
    "data = np.array(rawDATA)\n",
    "print(\"head \\n\", data[:5])\n",
    "print(\"\\n\\ntail \\n\", data[-5:])"
   ]
  },
  {
   "attachments": {},
   "cell_type": "markdown",
   "metadata": {},
   "source": [
    "Ahora se separa la X y la Y"
   ]
  },
  {
   "cell_type": "code",
   "execution_count": 609,
   "metadata": {},
   "outputs": [
    {
     "name": "stdout",
     "output_type": "stream",
     "text": [
      "(4238, 1)\n",
      "(4238, 1)\n"
     ]
    }
   ],
   "source": [
    "X = data[:, 12].reshape(-1, 1)\n",
    "Y = data[:, -1].reshape(-1, 1)\n",
    "print(X.shape)\n",
    "print(Y.shape)"
   ]
  },
  {
   "cell_type": "code",
   "execution_count": 610,
   "metadata": {},
   "outputs": [
    {
     "name": "stdout",
     "output_type": "stream",
     "text": [
      "Faltan datos en X.\n",
      "Todo bien en Y.\n"
     ]
    }
   ],
   "source": [
    "if np.any(np.isnan(X)):\n",
    "    print(\"Faltan datos en X.\")\n",
    "else:\n",
    "    print(\"Todo bien en X.\")\n",
    "\n",
    "# Check if there are any NaN values in Y\n",
    "if np.any(np.isnan(Y)):\n",
    "    print(\"Faltan datos en Y.\")\n",
    "else:\n",
    "    print(\"Todo bien en Y.\")"
   ]
  },
  {
   "attachments": {},
   "cell_type": "markdown",
   "metadata": {},
   "source": [
    "debido a que faltan datos en X se procede a saber que porcentaje de estos es NaN"
   ]
  },
  {
   "cell_type": "code",
   "execution_count": 611,
   "metadata": {},
   "outputs": [
    {
     "name": "stdout",
     "output_type": "stream",
     "text": [
      "falta un porcentaje del:\n",
      "0.4483246814535158\n"
     ]
    }
   ],
   "source": [
    "print('falta un porcentaje del:')\n",
    "print((np.count_nonzero(np.isnan(X)) * 100) /(X.shape[0]))"
   ]
  },
  {
   "attachments": {},
   "cell_type": "markdown",
   "metadata": {},
   "source": [
    "Se usara SimpleImputer para llenar los datos faltantes con el metodo de mean"
   ]
  },
  {
   "cell_type": "code",
   "execution_count": 612,
   "metadata": {},
   "outputs": [
    {
     "name": "stdout",
     "output_type": "stream",
     "text": [
      "Todo bien en X.\n"
     ]
    }
   ],
   "source": [
    "from sklearn.impute import SimpleImputer\n",
    "imp = SimpleImputer(strategy=\"mean\")\n",
    "X = imp.fit_transform(X)\n",
    "if np.any(np.isnan(X)):\n",
    "    print(\"Faltan datos en X.\")\n",
    "else:\n",
    "    print(\"Todo bien en X.\")"
   ]
  },
  {
   "attachments": {},
   "cell_type": "markdown",
   "metadata": {},
   "source": [
    "Ahora ya no tenemos datos faltantes en ambas variables"
   ]
  },
  {
   "cell_type": "code",
   "execution_count": 613,
   "metadata": {},
   "outputs": [
    {
     "name": "stdout",
     "output_type": "stream",
     "text": [
      "(4238, 1)\n",
      "(4238, 1)\n"
     ]
    }
   ],
   "source": [
    "print(X.shape)\n",
    "print(Y.shape)"
   ]
  },
  {
   "attachments": {},
   "cell_type": "markdown",
   "metadata": {},
   "source": [
    "Procedemos a separar en test y entreno"
   ]
  },
  {
   "cell_type": "code",
   "execution_count": 614,
   "metadata": {},
   "outputs": [],
   "source": [
    "import random\n",
    "combinadoZIP = list(zip(X, Y))\n",
    "random.shuffle(combinadoZIP)\n",
    "\n",
    "shuffleX, shuffleY = zip(*combinadoZIP)\n",
    "shuffleX, shuffleY = np.array(shuffleX), np.array(shuffleY)"
   ]
  },
  {
   "cell_type": "code",
   "execution_count": 615,
   "metadata": {},
   "outputs": [],
   "source": [
    "np.random.seed(54)\n",
    "shuffle_indices = np.random.permutation(X.shape[0])\n",
    "X_shuffled = X[shuffle_indices]\n",
    "Y_shuffled = Y[shuffle_indices]\n",
    "\n",
    "entreno_temp = int(X.shape[0] * 0.7)\n",
    "\n",
    "X_train, X_test = X_shuffled[:entreno_temp], X_shuffled[entreno_temp:]\n",
    "Y_train, Y_test = Y_shuffled[:entreno_temp], Y_shuffled[entreno_temp:]"
   ]
  },
  {
   "attachments": {},
   "cell_type": "markdown",
   "metadata": {},
   "source": [
    "ahora las funciones que nos sirven para calcular la data donde la funcion de costo es cambiada de la de regresion lineal por la de regresion logistica. Cabe mencionar que es similar pero el detalle del sigmoide es lo que la diferencia."
   ]
  },
  {
   "cell_type": "code",
   "execution_count": 616,
   "metadata": {},
   "outputs": [],
   "source": [
    "sigmoid = lambda X, t: 1 / (1 + np.exp(-(X @ t)))\n",
    "cost = lambda X, y, t: ((sigmoid(X, t) - y) ** 2).sum() / len(y)\n",
    "grad = lambda X, y, t: 2 * X.T @ (X @ t - y) / len(y)"
   ]
  },
  {
   "cell_type": "code",
   "execution_count": 617,
   "metadata": {},
   "outputs": [],
   "source": [
    "def regLineal(X, y, t, cost, grad, a=0.1, n=1000, on_step=None): \n",
    "    costs = []\n",
    "    for i in range(n):\n",
    "        t -= a * grad(X, y, t)\n",
    "        costs.append(cost(X, y, t))\n",
    "        if on_step:\n",
    "            on_step(t)\n",
    "    \n",
    "    return t, costs"
   ]
  },
  {
   "attachments": {},
   "cell_type": "markdown",
   "metadata": {},
   "source": [
    "Procedemos a buscar el polinomio"
   ]
  },
  {
   "cell_type": "code",
   "execution_count": 618,
   "metadata": {},
   "outputs": [
    {
     "name": "stdout",
     "output_type": "stream",
     "text": [
      "(2966, 1)\n",
      "(1272, 1)\n",
      "(2966, 1)\n",
      "(1272, 1)\n"
     ]
    }
   ],
   "source": [
    "print(Y_train.shape)\n",
    "print(Y_test.shape)\n",
    "print(X_train.shape)\n",
    "print(X_test.shape)"
   ]
  },
  {
   "attachments": {},
   "cell_type": "markdown",
   "metadata": {},
   "source": [
    "Investigue como funciona Cross Validation de Scikit Learn pues en ocasiones pasadas no llegue a obtener resultados faciles de comprender. Por lo tanto he llegado a comprender el funcionamiento del mismo y obtengo lo siguiente.<br>\n",
    "fuente utilizada: https://scikit-learn.org/stable/modules/cross_validation.html\n"
   ]
  },
  {
   "cell_type": "code",
   "execution_count": 619,
   "metadata": {},
   "outputs": [],
   "source": [
    "def validacion(X, y, k, reg, cost, grad, a=0.1, n=1000):\n",
    "    scores = []\n",
    "    temp_size = len(X) // k\n",
    "    for i in range(k):\n",
    "        X_test = X[i * temp_size:(i + 1) * temp_size]\n",
    "        X_test = np.column_stack((np.ones_like(X_test), X_test))\n",
    "        y_test = y[i * temp_size:(i + 1) * temp_size]\n",
    "        X_train = np.concatenate([X[:i * temp_size], X[(i + 1) * temp_size:]])\n",
    "        y_train = np.concatenate([y[:i * temp_size], y[(i + 1) * temp_size:]])\n",
    "\n",
    "        Xr = np.column_stack((np.ones_like(X_train), X_train))\n",
    "        theta_0 = np.random.rand(Xr.shape[1],1)\n",
    "        theta_0 = theta_0[~np.isnan(theta_0)].reshape((-1, 1))\n",
    "\n",
    "        t, g = regLineal(Xr, y_train, theta_0, cost, grad, a=a, n=n)\n",
    "\n",
    "        score = cost(X_test, y_test, t)\n",
    "        scores.append(score)\n",
    "\n",
    "    promediado = np.mean(scores)\n",
    "    return promediado"
   ]
  },
  {
   "cell_type": "code",
   "execution_count": 620,
   "metadata": {},
   "outputs": [
    {
     "data": {
      "text/plain": [
       "(4238, 1)"
      ]
     },
     "execution_count": 620,
     "metadata": {},
     "output_type": "execute_result"
    }
   ],
   "source": [
    "X_shuffled.shape"
   ]
  },
  {
   "cell_type": "code",
   "execution_count": 621,
   "metadata": {},
   "outputs": [
    {
     "data": {
      "text/plain": [
       "(4238, 1)"
      ]
     },
     "execution_count": 621,
     "metadata": {},
     "output_type": "execute_result"
    }
   ],
   "source": [
    "Y_shuffled.shape"
   ]
  },
  {
   "cell_type": "code",
   "execution_count": 622,
   "metadata": {},
   "outputs": [
    {
     "data": {
      "text/plain": [
       "array([0.])"
      ]
     },
     "execution_count": 622,
     "metadata": {},
     "output_type": "execute_result"
    }
   ],
   "source": [
    "np.zeros(X_train.shape[1])"
   ]
  },
  {
   "cell_type": "code",
   "execution_count": 623,
   "metadata": {},
   "outputs": [
    {
     "name": "stdout",
     "output_type": "stream",
     "text": [
      "El puntaje promedio de validación cruzada con k=5 es 0.8397529942713277\n"
     ]
    }
   ],
   "source": [
    "k = 5\n",
    "score = validacion(X_shuffled, Y_shuffled, k, regLineal, cost, grad, a=0.0000000000000000001, n=1000)\n",
    "print(f\"El puntaje promedio de validación cruzada con k={k} es {score}\")"
   ]
  },
  {
   "cell_type": "markdown",
   "metadata": {},
   "source": []
  }
 ],
 "metadata": {
  "language_info": {
   "name": "python"
  },
  "orig_nbformat": 4
 },
 "nbformat": 4,
 "nbformat_minor": 2
}
